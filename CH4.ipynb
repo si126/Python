{
 "cells": [
  {
   "cell_type": "markdown",
   "metadata": {},
   "source": [
    "# 第四章:Python 物件\n",
    "### List:串列[]\n",
    "### Tuple:不能更新的串列()\n",
    "### Dict:有鍵值(Key)的串列{}\n",
    "\n",
    "List串列"
   ]
  },
  {
   "cell_type": "code",
   "execution_count": 6,
   "metadata": {},
   "outputs": [
    {
     "name": "stdout",
     "output_type": "stream",
     "text": [
      "[]\n",
      "[]\n",
      "['pytom', 'js', 'SQL']\n",
      "pytom\n",
      "js\n",
      "SQL\n"
     ]
    }
   ],
   "source": [
    "my_list0=[]\n",
    "my_list1=list()\n",
    "my_list2=['pytom','js','SQL']\n",
    "print(my_list0)\n",
    "print(my_list1)\n",
    "print(my_list2)\n",
    "print(my_list2[0])\n",
    "print(my_list2[1])\n",
    "print(my_list2[2])"
   ]
  },
  {
   "cell_type": "code",
   "execution_count": 7,
   "metadata": {
    "scrolled": true
   },
   "outputs": [
    {
     "name": "stdout",
     "output_type": "stream",
     "text": [
      "SQL\n",
      "4\n",
      "5\n"
     ]
    }
   ],
   "source": [
    "my_list2=['pytom','ja','SQL']\n",
    "my_list2.append('java')\n",
    "print(my_list2[2])\n",
    "#長度Len()\n",
    "print(len(my_list2))\n",
    "print(len(my_list2[0]))"
   ]
  },
  {
   "cell_type": "markdown",
   "metadata": {},
   "source": [
    "### 新增特定位置"
   ]
  },
  {
   "cell_type": "code",
   "execution_count": 8,
   "metadata": {},
   "outputs": [
    {
     "name": "stdout",
     "output_type": "stream",
     "text": [
      "['java', 'pytom', 'ja', 'SQL']\n"
     ]
    }
   ],
   "source": [
    "my_list3=['pytom','ja','SQL']\n",
    "my_list3.insert(0,'java')\n",
    "print(my_list3)"
   ]
  },
  {
   "cell_type": "markdown",
   "metadata": {},
   "source": [
    "### 刪除   \n",
    "##### -1=倒數第一個  -2=倒數第二個"
   ]
  },
  {
   "cell_type": "code",
   "execution_count": 9,
   "metadata": {},
   "outputs": [
    {
     "name": "stdout",
     "output_type": "stream",
     "text": [
      "['pytom', 'ja', 'SQL']\n",
      "['pytom', 'ja']\n"
     ]
    }
   ],
   "source": [
    "my_list4=['java','pytom','ja','SQL']\n",
    "del my_list4[0]\n",
    "print(my_list4)\n",
    "del my_list4[-1]\n",
    "print(my_list4)"
   ]
  },
  {
   "cell_type": "markdown",
   "metadata": {},
   "source": [
    "##### 有沒有在裡面 true OR false"
   ]
  },
  {
   "cell_type": "code",
   "execution_count": 10,
   "metadata": {},
   "outputs": [
    {
     "name": "stdout",
     "output_type": "stream",
     "text": [
      "True\n",
      "False\n"
     ]
    }
   ],
   "source": [
    "my_list4=['java','pytom','ja','SQL']\n",
    "print('java' in my_list4)\n",
    "print('gg' in my_list4)"
   ]
  },
  {
   "cell_type": "markdown",
   "metadata": {},
   "source": [
    "#### 串列重複"
   ]
  },
  {
   "cell_type": "code",
   "execution_count": 11,
   "metadata": {},
   "outputs": [
    {
     "name": "stdout",
     "output_type": "stream",
     "text": [
      "[1, 2, 1, 2, 1, 2, 1, 2, 1, 2]\n"
     ]
    }
   ],
   "source": [
    "a=[1,2]\n",
    "print(a*5)"
   ]
  },
  {
   "cell_type": "markdown",
   "metadata": {},
   "source": [
    "串列取值"
   ]
  },
  {
   "cell_type": "code",
   "execution_count": 12,
   "metadata": {},
   "outputs": [
    {
     "name": "stdout",
     "output_type": "stream",
     "text": [
      "[1, 2, 3]\n",
      "[1, 3, 5, 7, 9]\n",
      "[1, 2, 3, 4, 5, 6, 7]\n",
      "1\n",
      "7\n",
      "0\n",
      "1\n",
      "[7, 6, 5, 4, 3, 2, 1]\n",
      "[1, 2, 3, 4, 5, 6, 7]\n"
     ]
    }
   ],
   "source": [
    "a=[1,2,3,4,5,6,7,8,9]\n",
    "b=a[0:3]  #範圍取值\n",
    "print(b)\n",
    "c=a[0:9:2]  #間隔取值  0~9隔X個取一次\n",
    "print(c)\n",
    "del a[7:9] #刪除串列某範圍的值\n",
    "print(a)\n",
    "print(min(a))   #最小\n",
    "print(max(a))   #最大\n",
    "print(a.index(1))  \n",
    "print(a.count(1))    \n",
    "a.reverse()    #顛倒排\n",
    "print(a)\n",
    "a.sort()       \n",
    "print(a)"
   ]
  },
  {
   "cell_type": "markdown",
   "metadata": {},
   "source": [
    "## Tuple\n",
    "tuple(元組)可視為不可改變的串列,tuple跟list很像,但是我們不能新增、刪除或更新tuple的元素。\n",
    "tuple的好處有 :\n",
    "  \n",
    "  ##### 1.佔用較少空間\n",
    "  ##### 2.可當作dictionary(字典)的鍵值\n",
    "  ##### 3.可當作函式引數"
   ]
  },
  {
   "cell_type": "code",
   "execution_count": 13,
   "metadata": {},
   "outputs": [
    {
     "name": "stdout",
     "output_type": "stream",
     "text": [
      "('java', 'pytom', 'ja', 'SQL')\n",
      "('ggg', 'C##', 'vvbb')\n",
      "ggg\n"
     ]
    }
   ],
   "source": [
    "a_tuple=('java','pytom','ja','SQL')\n",
    "print(a_tuple)\n",
    "b_list=['ggg','C##','vvbb']\n",
    "b_tuple=tuple(b_list)\n",
    "print(b_tuple)\n",
    "print(b_tuple[0])"
   ]
  },
  {
   "cell_type": "markdown",
   "metadata": {},
   "source": [
    "### 字典(dictionary - dict)為帶有鍵值(key)的串列(list)"
   ]
  },
  {
   "cell_type": "code",
   "execution_count": 14,
   "metadata": {},
   "outputs": [
    {
     "name": "stdout",
     "output_type": "stream",
     "text": [
      "python\n",
      "3.7\n",
      "python\n",
      "java\n",
      "SQL\n",
      "{'name': 'python', 'version': '3.7'}\n",
      "dict_keys(['name', 'version'])\n",
      "dict_values(['python', '3.7'])\n",
      "dict_items([('name', 'python'), ('version', '3.7')])\n",
      "True\n"
     ]
    }
   ],
   "source": [
    "languages = {}\n",
    "languages = {'name':'python', 'version':'3.7'} #索引值(鍵值)可以自訂\n",
    "print(languages['name'])\n",
    "print(languages['version'])\n",
    "a={0:'python', 1:'java', 2:'SQL'}\n",
    "print(a[0])\n",
    "print(a[1])\n",
    "print(a[2])\n",
    "print(languages)\n",
    "print(languages.keys())\n",
    "print(languages.values())\n",
    "print(languages.items())\n",
    "print('name' in languages)"
   ]
  },
  {
   "cell_type": "code",
   "execution_count": 15,
   "metadata": {},
   "outputs": [
    {
     "name": "stdout",
     "output_type": "stream",
     "text": [
      "{'name': 'python', 'version': '3.7'}\n",
      "{'name': 'python', 'version': '3.7'}\n",
      "{}\n",
      "python\n",
      "python\n",
      "{'name': 'java', 'version': '3.7'}\n"
     ]
    }
   ],
   "source": [
    "a = {'name':'python', 'version':'3.7'}\n",
    "print(a)\n",
    "b = a.copy()\n",
    "print(b)\n",
    "b.clear()\n",
    "print(b)\n",
    "print(a['name'])\n",
    "print(a.get('name'))\n",
    "a.update({'name':'java'})\n",
    "print(a)"
   ]
  }
 ],
 "metadata": {
  "kernelspec": {
   "display_name": "Python 3",
   "language": "python",
   "name": "python3"
  },
  "language_info": {
   "codemirror_mode": {
    "name": "ipython",
    "version": 3
   },
   "file_extension": ".py",
   "mimetype": "text/x-python",
   "name": "python",
   "nbconvert_exporter": "python",
   "pygments_lexer": "ipython3",
   "version": "3.7.4"
  }
 },
 "nbformat": 4,
 "nbformat_minor": 2
}
