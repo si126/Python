{
 "cells": [
  {
   "cell_type": "markdown",
   "metadata": {},
   "source": [
    "# 流程控制 \n",
    "## if else"
   ]
  },
  {
   "cell_type": "code",
   "execution_count": 1,
   "metadata": {},
   "outputs": [
    {
     "name": "stdout",
     "output_type": "stream",
     "text": [
      "B比較大\n"
     ]
    }
   ],
   "source": [
    "a=1\n",
    "b=8\n",
    "if a <= b:\n",
    "    print(\"B比較大\")\n",
    "else:\n",
    "    print(\"A比較大\")"
   ]
  },
  {
   "cell_type": "code",
   "execution_count": 2,
   "metadata": {},
   "outputs": [
    {
     "name": "stdout",
     "output_type": "stream",
     "text": [
      "105\n"
     ]
    }
   ],
   "source": [
    "sum=0\n",
    "for count in range(1,15,1): #1 2 3 4 5 6 7 8 9 10 NO11,step:1\n",
    "    sum=sum+count\n",
    "print (sum)"
   ]
  },
  {
   "cell_type": "code",
   "execution_count": 3,
   "metadata": {},
   "outputs": [
    {
     "name": "stdout",
     "output_type": "stream",
     "text": [
      "105\n"
     ]
    }
   ],
   "source": [
    "sum=0\n",
    "for count in range(1,15): #1 2 3 4 5 6 7 8 9 10 NO11,step:1\n",
    "    sum=sum+count\n",
    "print (sum)"
   ]
  },
  {
   "cell_type": "code",
   "execution_count": 4,
   "metadata": {},
   "outputs": [
    {
     "name": "stdout",
     "output_type": "stream",
     "text": [
      "55\n"
     ]
    }
   ],
   "source": [
    "sum=0\n",
    "for count in range(11): #1 2 3 4 5 6 7 8 9 10 NO11,step:1\n",
    "    sum=sum+count\n",
    "print (sum)"
   ]
  },
  {
   "cell_type": "code",
   "execution_count": 5,
   "metadata": {},
   "outputs": [
    {
     "name": "stdout",
     "output_type": "stream",
     "text": [
      "f\n",
      "o\n",
      "r\n",
      " \n",
      "s\n",
      "t\n",
      "a\n",
      "t\n",
      "e\n",
      "m\n",
      "e\n",
      "n\n",
      "t\n",
      "end list\n"
     ]
    }
   ],
   "source": [
    "mylist=\"for statement\"\n",
    "for word in mylist:\n",
    "    print(word)\n",
    "else:\n",
    "        print(\"end list\")"
   ]
  },
  {
   "cell_type": "markdown",
   "metadata": {},
   "source": [
    "### 雞AND兔 農場有35頭,94隻腳 有幾隻雞AND兔?"
   ]
  },
  {
   "cell_type": "code",
   "execution_count": 6,
   "metadata": {},
   "outputs": [
    {
     "name": "stdout",
     "output_type": "stream",
     "text": [
      "雞有 23 隻 兔有 12 隻\n"
     ]
    }
   ],
   "source": [
    "for chi in range(0,35):\n",
    "    rab=35-chi\n",
    "    if(2*chi+4*rab)==94:\n",
    "        print(\"雞有\",chi,\"隻\",\"兔有\",rab,\"隻\")\n",
    "        break\n",
    "else:\n",
    "    print(\"無解\")"
   ]
  },
  {
   "cell_type": "markdown",
   "metadata": {},
   "source": [
    "迴圈圈"
   ]
  },
  {
   "cell_type": "code",
   "execution_count": 7,
   "metadata": {},
   "outputs": [
    {
     "name": "stdout",
     "output_type": "stream",
     "text": [
      "1+2+3+4...+10= 55\n"
     ]
    }
   ],
   "source": [
    "sum=0\n",
    "count=1\n",
    "while count<=10:\n",
    "    sum=sum+count\n",
    "    count=count+1\n",
    "print(\"1+2+3+4...+10=\",sum)\n"
   ]
  },
  {
   "cell_type": "markdown",
   "metadata": {},
   "source": [
    "### 本金200000元，年利率1%，請問多久銀行存款會加倍"
   ]
  },
  {
   "cell_type": "code",
   "execution_count": 10,
   "metadata": {},
   "outputs": [
    {
     "name": "stdout",
     "output_type": "stream",
     "text": [
      "41 年以後，存款加倍，為 300750 元\n"
     ]
    }
   ],
   "source": [
    "x=200000\n",
    "year=0\n",
    "while x <= 300000:\n",
    "    year += 1\n",
    "    x=x*1.01\n",
    "print(str(year),\"年以後，存款加倍，為\",int(x),\"元\")"
   ]
  },
  {
   "cell_type": "markdown",
   "metadata": {},
   "source": [
    "### 猜數字"
   ]
  },
  {
   "cell_type": "code",
   "execution_count": 12,
   "metadata": {},
   "outputs": [
    {
     "name": "stdout",
     "output_type": "stream",
     "text": [
      "請輸入1~100之間的數字：1\n",
      "猜錯了\n",
      "請輸入1~100之間的數字：2\n",
      "猜錯了\n",
      "請輸入1~100之間的數字：3\n",
      "猜錯了\n",
      "請輸入1~100之間的數字：55\n",
      "猜錯了\n",
      "請輸入1~100之間的數字：60\n",
      "你猜對了，數字是： 60\n"
     ]
    }
   ],
   "source": [
    "number=60\n",
    "while True:\n",
    "    guess=int(input('請輸入1~100之間的數字：'))\n",
    "    if guess == number:\n",
    "        print('你猜對了，數字是：',number)\n",
    "        break\n",
    "    else:\n",
    "        print('猜錯了')"
   ]
  },
  {
   "cell_type": "code",
   "execution_count": 13,
   "metadata": {},
   "outputs": [
    {
     "name": "stdout",
     "output_type": "stream",
     "text": [
      "請輸入1~10之間的數字：1\n",
      "猜錯了\n",
      "請輸入1~10之間的數字：5\n",
      "你猜對了，數字是： 5\n"
     ]
    }
   ],
   "source": [
    "import random\n",
    "number=random.randint(1,10)\n",
    "while True:\n",
    "    guess=int(input('請輸入1~10之間的數字：'))\n",
    "    if guess == number:\n",
    "        print('你猜對了，數字是：',number)\n",
    "        break\n",
    "    else:\n",
    "        print('猜錯了')"
   ]
  },
  {
   "cell_type": "code",
   "execution_count": null,
   "metadata": {},
   "outputs": [],
   "source": []
  }
 ],
 "metadata": {
  "kernelspec": {
   "display_name": "Python 3",
   "language": "python",
   "name": "python3"
  },
  "language_info": {
   "codemirror_mode": {
    "name": "ipython",
    "version": 3
   },
   "file_extension": ".py",
   "mimetype": "text/x-python",
   "name": "python",
   "nbconvert_exporter": "python",
   "pygments_lexer": "ipython3",
   "version": "3.7.4"
  }
 },
 "nbformat": 4,
 "nbformat_minor": 2
}
